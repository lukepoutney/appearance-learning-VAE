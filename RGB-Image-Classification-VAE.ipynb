{
 "cells": [
  {
   "cell_type": "code",
   "execution_count": 1,
   "metadata": {},
   "outputs": [],
   "source": [
    "#Follows heavily the pytorch classification tutorial"
   ]
  },
  {
   "cell_type": "code",
   "execution_count": 2,
   "metadata": {},
   "outputs": [],
   "source": [
    "import os\n",
    "import csv\n",
    "import numpy as np\n",
    "import math\n",
    "import pandas as pd\n",
    "import matplotlib\n",
    "import matplotlib.pyplot as plt\n",
    "from skimage import io\n",
    "from PIL import Image\n",
    "from tqdm import tqdm\n",
    "#import argparse\n",
    "\n",
    "import torch\n",
    "import torch.nn as nn\n",
    "import torchvision\n",
    "import torch.nn.functional as F\n",
    "import torch.optim as optim\n",
    "import torchvision.transforms as transforms\n",
    "from torch.utils.data import DataLoader\n",
    "from torch.utils.data import Dataset\n",
    "from torchvision import datasets\n",
    "from torchvision.utils import save_image\n",
    "\n",
    "matplotlib.style.use('ggplot')\n",
    "\n",
    "torch.cuda.empty_cache() \n",
    "#import model"
   ]
  },
  {
   "cell_type": "code",
   "execution_count": 3,
   "metadata": {},
   "outputs": [],
   "source": [
    "class Encoder(nn.Module):\n",
    "    def __init__(self, z_dim):\n",
    "        super(Encoder, self).__init__() \n",
    "        self.enc1 = nn.Conv2d(\n",
    "            in_channels=3, out_channels=init_kernel, kernel_size=kernel_size, \n",
    "            stride=stride, padding=padding\n",
    "        )\n",
    "        self.enc2 = nn.Conv2d(\n",
    "            in_channels=init_kernel, out_channels=init_kernel*2, kernel_size=kernel_size, \n",
    "            stride=stride, padding=padding\n",
    "        )\n",
    "        self.enc3 = nn.Conv2d(\n",
    "            in_channels=init_kernel*2, out_channels=init_kernel, kernel_size=kernel_size, \n",
    "            stride=stride, padding=padding\n",
    "        )\n",
    "        self.enc4 = nn.Conv2d(\n",
    "            in_channels=init_kernel*4, out_channels=init_kernel*8, kernel_size=kernel_size, \n",
    "            stride=stride, padding=padding\n",
    "        )\n",
    "        self.enc5 = nn.Conv2d(\n",
    "            in_channels=init_kernel*8, out_channels=init_kernel, kernel_size=kernel_size, \n",
    "            stride=stride, padding=padding\n",
    "        )\n",
    "        #self.dropout = nn.Dropout2d(p=0.1) # need to call in forward but turn off automatically in eval()\n",
    "        \n",
    "        self.mu = nn.Linear(init_kernel*191*191, z_dim)\n",
    "        self.sigma = nn.Linear(init_kernel*191*191, z_dim)\n",
    "        \n",
    "        \n",
    "    def reparameterize(self, mu, log_var):\n",
    "        \"\"\"\n",
    "        :param mu: mean from the encoder's latent space\n",
    "        :param log_var: log variance from the encoder's latent space\n",
    "        \"\"\"\n",
    "        std = torch.exp(0.5*log_var) # standard deviation\n",
    "        eps = torch.randn_like(std) # `randn_like` as we need the same size\n",
    "        sample = mu + (eps * std) # sampling\n",
    "        return sample\n",
    " \n",
    "    def forward(self, x):\n",
    "        \n",
    "        #print(\"before anything\")\n",
    "        #print(x.shape)\n",
    "        x = self.enc1(x)\n",
    "        x = F.relu(x)\n",
    "        x = self.enc2(x)\n",
    "        x = F.relu(x)\n",
    "        x = self.enc3(x)\n",
    "        x = F.relu(x)\n",
    "        #x = self.enc4(x)\n",
    "        #x = F.relu(x)\n",
    "        #x = self.enc5(x)\n",
    "        #x = F.relu(x)\n",
    "        \n",
    "        #print(\"before flatten:\")\n",
    "        #print(x.shape)\n",
    "        \n",
    "        x = x.view(x.size(0), -1)\n",
    "        \n",
    "        #print(\"after flatten:\")\n",
    "        #print(x.shape)\n",
    "        \n",
    "        # get `mu` and `log_var`\n",
    "        mu = self.mu(x)\n",
    "        log_var = self.sigma(x) # fix!!!!name\n",
    "        \n",
    "        #return mu, log_var #fix!!! name\n",
    "        ## get the latent vector through reparameterization\n",
    "        z = self.reparameterize(mu, log_var)\n",
    "        \n",
    "        return z, mu, log_var\n",
    "\n",
    "class Decoder(nn.Module):\n",
    "    def __init__(self, z_dim):\n",
    "        super(Decoder, self).__init__()\n",
    "        \n",
    "        self.lin1 = nn.Linear(z_dim, init_kernel*191*191)\n",
    "        \n",
    "        self.dec1 = nn.ConvTranspose2d(\n",
    "            in_channels=init_kernel, out_channels=init_kernel*8, kernel_size=kernel_size, \n",
    "            stride=stride, padding=padding\n",
    "        )\n",
    "        self.dec2 = nn.ConvTranspose2d(\n",
    "            in_channels=init_kernel*8, out_channels=init_kernel*4, kernel_size=kernel_size, \n",
    "            stride=stride, padding=padding\n",
    "        )\n",
    "        self.dec3 = nn.ConvTranspose2d(\n",
    "            in_channels=init_kernel, out_channels=init_kernel*2, kernel_size=kernel_size, \n",
    "            stride=stride, padding=padding\n",
    "        )\n",
    "        self.dec4 = nn.ConvTranspose2d(\n",
    "            in_channels=init_kernel*2, out_channels=init_kernel, kernel_size=kernel_size, \n",
    "            stride=stride, padding=padding\n",
    "        )\n",
    "        self.dec5 = nn.ConvTranspose2d(\n",
    "            in_channels=init_kernel, out_channels=3, kernel_size=kernel_size, \n",
    "            stride=stride, padding=padding\n",
    "        )\n",
    "        \n",
    "    def forward(self, z):\n",
    "        x = self.lin1(z)\n",
    "        x=F.relu(x)\n",
    "        \n",
    "        x=x.view(-1, init_kernel, 191, 191)\n",
    "        #print(\"after unflatten:\")\n",
    "        #print(x.shape)\n",
    "        \n",
    "        #x = self.dec1(x)\n",
    "        #x = F.relu(x)\n",
    "        #x = self.dec2(x)\n",
    "        #x = F.relu(x)\n",
    "        x = self.dec3(x)\n",
    "        x = F.relu(x)\n",
    "        x = self.dec4(x)\n",
    "        x = F.relu(x)\n",
    "        x = self.dec5(x)\n",
    "        reconstruction = torch.sigmoid(x)\n",
    "        \n",
    "        return reconstruction\n",
    "\n",
    "class ConvVAE(nn.Module):\n",
    "    def __init__(self, z_dim):\n",
    "        super(ConvVAE, self).__init__()\n",
    "        self.encoder = Encoder(z_dim)\n",
    "        self.decoder = Decoder(z_dim)\n",
    "    \n",
    "    def forward(self,x):\n",
    "        sample, z_mu, z_logvar = self.encoder(x)\n",
    "        #z_mu, z_logvar = self.encoder(x)\n",
    "        \n",
    "        #std = torch.exp(z_logvar)\n",
    "        #eps = torch.randn_like(std) # `randn_like` as we need the same size\n",
    "        #sample = z_mu + (eps * std) # sampling\n",
    "        \n",
    "        reconstruction = self.decoder(sample)\n",
    "        \n",
    "        return reconstruction, z_mu, z_logvar"
   ]
  },
  {
   "cell_type": "markdown",
   "metadata": {},
   "source": [
    "Below should be the optimal paramters"
   ]
  },
  {
   "cell_type": "code",
   "execution_count": 4,
   "metadata": {},
   "outputs": [
    {
     "name": "stdout",
     "output_type": "stream",
     "text": [
      "cuda\n"
     ]
    }
   ],
   "source": [
    "epochs = 25 # 50,100\n",
    "batch_size = 1 #8,16,32,64?\n",
    "lr = 0.0001 #0.002, 0.003\n",
    "\n",
    "kernel_size = 4 #3,4,5,6?\n",
    "stride = 1 #1,2,3,4?\n",
    "padding = 0 #0,1,2,3,4?\n",
    "init_kernel = 8 #4,8,16,32 #initial number of filters\n",
    "\n",
    "latent_dim = 96\n",
    "\n",
    "device = torch.device('cuda' if torch.cuda.is_available() else 'cpu')\n",
    "print(device)"
   ]
  },
  {
   "cell_type": "code",
   "execution_count": 5,
   "metadata": {},
   "outputs": [],
   "source": [
    "class ActiveVisionDataset (Dataset):\n",
    "    def __init__(self, csv_file, root_dir, transform=None):\n",
    "        self.annotations = pd.read_csv(csv_file, index_col=None)\n",
    "        self.root_dir = root_dir\n",
    "        self.transform = transform\n",
    "        \n",
    "    def __len__(self):\n",
    "        return len(self.annotations)\n",
    "    \n",
    "    def __getitem__(self,index):\n",
    "        if type(index) == torch.Tensor:\n",
    "            index = index.item()\n",
    "        img_path = os.path.join(self.root_dir, self.annotations.iloc[index, 0])\n",
    "        image = io.imread(img_path)\n",
    "        shape_label = torch.tensor(int(self.annotations.iloc[index,1]))\n",
    "        cam_loc = torch.tensor(ast.literal_eval(self.annotations.iloc[index,2]))\n",
    "        \n",
    "        if self.transform:\n",
    "            image = self.transform(image)\n",
    "        \n",
    "        return image, shape_label, cam_loc"
   ]
  },
  {
   "cell_type": "code",
   "execution_count": 6,
   "metadata": {},
   "outputs": [],
   "source": [
    "dataset = ActiveVisionDataset(csv_file='imgs/rgbCSV.csv', root_dir= 'imgs/rgbImg/', transform = torchvision.transforms.ToTensor())\n",
    "train_data, val_data = torch.utils.data.random_split(dataset, [2400, 600])\n",
    "train_loader = DataLoader(dataset=train_data, batch_size=batch_size, shuffle=True)\n",
    "val_loader = DataLoader(dataset=val_data, batch_size=batch_size, shuffle=True)"
   ]
  },
  {
   "cell_type": "markdown",
   "metadata": {},
   "source": [
    "## Classification"
   ]
  },
  {
   "cell_type": "code",
   "execution_count": 7,
   "metadata": {},
   "outputs": [],
   "source": [
    "classes = ['Shape 0', 'Shape 1', 'Shape 2', 'Shape 3', 'Shape 4', 'Shape 5']"
   ]
  },
  {
   "cell_type": "code",
   "execution_count": 8,
   "metadata": {},
   "outputs": [
    {
     "data": {
      "text/plain": [
       "\"\\n# get some random training images\\ndataiter = iter(train_loader)\\nimages, labels = dataiter.next()\\n\\n# show images\\nimshow(torchvision.utils.make_grid(images))\\n# print labels\\nprint(' '.join('%5s' % classes[labels[j]] for j in range(8)))\\n\""
      ]
     },
     "execution_count": 8,
     "metadata": {},
     "output_type": "execute_result"
    }
   ],
   "source": [
    "\n",
    "classes = ['Shape 0', 'Shape 1', 'Shape 2', 'Shape 3', 'Shape 4', 'Shape 5']\n",
    "\n",
    "# functions to show an image\n",
    "\n",
    "\n",
    "def imshow(img):\n",
    "    #img = img / 2 + 0.5     # unnormalize\n",
    "    npimg = img.numpy()\n",
    "    plt.imshow(np.transpose(npimg, (1, 2, 0)))\n",
    "    plt.show()\n",
    "\n",
    "'''\n",
    "# get some random training images\n",
    "dataiter = iter(train_loader)\n",
    "images, labels = dataiter.next()\n",
    "\n",
    "# show images\n",
    "imshow(torchvision.utils.make_grid(images))\n",
    "# print labels\n",
    "print(' '.join('%5s' % classes[labels[j]] for j in range(8)))\n",
    "'''"
   ]
  },
  {
   "cell_type": "code",
   "execution_count": 9,
   "metadata": {},
   "outputs": [
    {
     "data": {
      "text/plain": [
       "ConvVAE(\n",
       "  (encoder): Encoder(\n",
       "    (enc1): Conv2d(3, 8, kernel_size=(4, 4), stride=(1, 1))\n",
       "    (enc2): Conv2d(8, 16, kernel_size=(4, 4), stride=(1, 1))\n",
       "    (enc3): Conv2d(16, 8, kernel_size=(4, 4), stride=(1, 1))\n",
       "    (enc4): Conv2d(32, 64, kernel_size=(4, 4), stride=(1, 1))\n",
       "    (enc5): Conv2d(64, 8, kernel_size=(4, 4), stride=(1, 1))\n",
       "    (mu): Linear(in_features=291848, out_features=96, bias=True)\n",
       "    (sigma): Linear(in_features=291848, out_features=96, bias=True)\n",
       "  )\n",
       "  (decoder): Decoder(\n",
       "    (lin1): Linear(in_features=96, out_features=291848, bias=True)\n",
       "    (dec1): ConvTranspose2d(8, 64, kernel_size=(4, 4), stride=(1, 1))\n",
       "    (dec2): ConvTranspose2d(64, 32, kernel_size=(4, 4), stride=(1, 1))\n",
       "    (dec3): ConvTranspose2d(8, 16, kernel_size=(4, 4), stride=(1, 1))\n",
       "    (dec4): ConvTranspose2d(16, 8, kernel_size=(4, 4), stride=(1, 1))\n",
       "    (dec5): ConvTranspose2d(8, 3, kernel_size=(4, 4), stride=(1, 1))\n",
       "  )\n",
       ")"
      ]
     },
     "execution_count": 9,
     "metadata": {},
     "output_type": "execute_result"
    }
   ],
   "source": [
    "#Which model am i tryna load in huh\n",
    "PATH = os.path.join(os.getcwd(), \"outputs\", \"batch_sizes8\", \"batch_sizes8.pth\")\n",
    "\n",
    "ConvVAE = ConvVAE(latent_dim)#.to(device)\n",
    "ConvVAE.load_state_dict(torch.load(PATH))\n",
    "ConvVAE.to(device)"
   ]
  },
  {
   "cell_type": "code",
   "execution_count": 10,
   "metadata": {},
   "outputs": [
    {
     "data": {
      "text/plain": [
       "ConvVAE(\n",
       "  (encoder): Encoder(\n",
       "    (enc1): Conv2d(3, 8, kernel_size=(4, 4), stride=(1, 1))\n",
       "    (enc2): Conv2d(8, 16, kernel_size=(4, 4), stride=(1, 1))\n",
       "    (enc3): Conv2d(16, 8, kernel_size=(4, 4), stride=(1, 1))\n",
       "    (enc4): Conv2d(32, 64, kernel_size=(4, 4), stride=(1, 1))\n",
       "    (enc5): Conv2d(64, 8, kernel_size=(4, 4), stride=(1, 1))\n",
       "    (mu): Linear(in_features=291848, out_features=96, bias=True)\n",
       "    (sigma): Linear(in_features=291848, out_features=96, bias=True)\n",
       "  )\n",
       "  (decoder): Decoder(\n",
       "    (lin1): Linear(in_features=96, out_features=291848, bias=True)\n",
       "    (dec1): ConvTranspose2d(8, 64, kernel_size=(4, 4), stride=(1, 1))\n",
       "    (dec2): ConvTranspose2d(64, 32, kernel_size=(4, 4), stride=(1, 1))\n",
       "    (dec3): ConvTranspose2d(8, 16, kernel_size=(4, 4), stride=(1, 1))\n",
       "    (dec4): ConvTranspose2d(16, 8, kernel_size=(4, 4), stride=(1, 1))\n",
       "    (dec5): ConvTranspose2d(8, 3, kernel_size=(4, 4), stride=(1, 1))\n",
       "  )\n",
       ")"
      ]
     },
     "execution_count": 10,
     "metadata": {},
     "output_type": "execute_result"
    }
   ],
   "source": [
    "ConvVAE.eval()"
   ]
  },
  {
   "cell_type": "code",
   "execution_count": 11,
   "metadata": {},
   "outputs": [],
   "source": [
    "#            latent.extend(mu.cpu().numpy())\n",
    "#            target.extend(labels.numpy())\n",
    "\n",
    "#Should probably be a test set here!\n",
    "\n",
    "def generate_latent_vectors(model, dataloader):\n",
    "    model.eval()\n",
    "    latent = []\n",
    "    target = []\n",
    "    with torch.no_grad():\n",
    "        for i, data in tqdm(enumerate(dataloader), total=int(len(val_data)/dataloader.batch_size)):\n",
    "            data, labels = data\n",
    "            #if torch.cuda.is_available():\n",
    "            #    data = data.to(device)\n",
    "            z, mu, logvar = model.encoder(data.cuda())\n",
    "            latent.extend(mu)\n",
    "            target.extend(labels)\n",
    "        return latent, target"
   ]
  },
  {
   "cell_type": "code",
   "execution_count": 12,
   "metadata": {},
   "outputs": [
    {
     "name": "stderr",
     "output_type": "stream",
     "text": [
      "2400it [00:06, 343.87it/s]                                                                                             \n",
      "100%|███████████████████████████████████████████████████████████████████████████████| 600/600 [00:01<00:00, 434.57it/s]\n"
     ]
    }
   ],
   "source": [
    "train_latent_var, train_target = generate_latent_vectors(ConvVAE, train_loader)\n",
    "test_latent_var, test_target = generate_latent_vectors(ConvVAE, val_loader)"
   ]
  },
  {
   "cell_type": "code",
   "execution_count": 13,
   "metadata": {},
   "outputs": [
    {
     "name": "stdout",
     "output_type": "stream",
     "text": [
      "tensor([-0.5902, -0.7608, -0.2314,  0.6292,  0.5407,  0.3268,  0.7189, -0.6056,\n",
      "         1.0313, -0.7886, -0.2300,  0.2419,  0.2733, -0.1038,  0.3910, -0.3768,\n",
      "         1.1979,  0.2924, -0.9146,  0.5108, -0.6003,  0.1270,  0.9342, -0.1726,\n",
      "         0.3737, -0.1945,  0.7326, -0.4094,  0.2962,  0.2717,  0.4465, -0.5386,\n",
      "        -1.1835,  0.6970, -0.7199,  0.7713, -0.7353,  0.2939, -0.5259,  0.5331,\n",
      "         0.9571,  0.4416,  0.3950, -0.7964, -0.1104, -0.0068,  0.5602, -0.4801,\n",
      "        -0.4845,  0.0117, -0.1922,  0.1288,  0.3036,  1.4135, -0.3645,  0.6662,\n",
      "         0.2392, -0.2018, -0.1202,  0.1856, -0.3293,  0.0741, -0.7557, -0.8053,\n",
      "        -0.1886, -0.4724, -0.5213, -0.2918,  0.0432, -0.9366,  0.3105, -0.8509,\n",
      "        -0.5471,  0.1135, -0.4119, -0.1082,  0.6108,  0.6970,  0.7552,  0.6603,\n",
      "         0.2911, -0.9732,  0.6882,  0.2732, -0.1866,  0.6160, -0.7718,  0.1393,\n",
      "         0.2422, -0.1818, -0.5264,  0.0867, -2.2872,  0.3984,  0.8484, -0.5999],\n",
      "       device='cuda:0')\n"
     ]
    }
   ],
   "source": [
    "#print(len(train_latent_var))\n",
    "print(train_latent_var[0])\n",
    "#train_latent_var = latent_var[0:60]\n",
    "#test_latent_var = latent_var[60:75]\n",
    "#print(len(train_latent_var))\n",
    "#print(len(test_latent_var))"
   ]
  },
  {
   "cell_type": "code",
   "execution_count": 14,
   "metadata": {},
   "outputs": [
    {
     "data": {
      "text/plain": [
       "Net(\n",
       "  (fc1): Linear(in_features=96, out_features=60, bias=True)\n",
       "  (fc3): Linear(in_features=60, out_features=30, bias=True)\n",
       ")"
      ]
     },
     "execution_count": 14,
     "metadata": {},
     "output_type": "execute_result"
    }
   ],
   "source": [
    "import torch.nn as nn\n",
    "import torch.nn.functional as F\n",
    "\n",
    "\n",
    "class Net(nn.Module):\n",
    "    def __init__(self):\n",
    "        super(Net, self).__init__()\n",
    "        #self.conv1 = nn.Conv2d(3, 6, 5)\n",
    "        #self.pool = nn.MaxPool2d(2, 2)\n",
    "        #self.conv2 = nn.Conv2d(6, 16, 5)\n",
    "        self.fc1 = nn.Linear(96, 60)\n",
    "        #self.fc2 = nn.Linear(60, 30)\n",
    "        self.fc3 = nn.Linear(60, 30)\n",
    "\n",
    "    def forward(self, x):\n",
    "        #x = self.pool(F.relu(self.conv1(x)))\n",
    "        #x = self.pool(F.relu(self.conv2(x)))\n",
    "        x = x.view(-1, x.size(0))\n",
    "        #print(x.shape)\n",
    "        #print(x)\n",
    "        x = F.relu(self.fc1(x))\n",
    "        #x = F.relu(self.fc2(x))\n",
    "        x = self.fc3(x)\n",
    "        return x\n",
    "\n",
    "\n",
    "net = Net()\n",
    "net.to(device)"
   ]
  },
  {
   "cell_type": "code",
   "execution_count": 15,
   "metadata": {},
   "outputs": [],
   "source": [
    "import torch.optim as optim\n",
    "\n",
    "criterion = nn.CrossEntropyLoss()\n",
    "optimizer = optim.SGD(net.parameters(), lr=0.001, momentum=0.9)"
   ]
  },
  {
   "cell_type": "code",
   "execution_count": 16,
   "metadata": {},
   "outputs": [
    {
     "name": "stdout",
     "output_type": "stream",
     "text": [
      "Finished Training\n"
     ]
    }
   ],
   "source": [
    "\n",
    "for epoch in range(2):  # loop over the dataset multiple times\n",
    "\n",
    "    running_loss = 0.0\n",
    "    for i, data in enumerate(train_loader, 0):\n",
    "        # get the inputs; data is a list of [inputs, labels]\n",
    "        _, labels = data\n",
    "        z = train_latent_var[i].to(device)\n",
    "        #print(z.shape)\n",
    "        # zero the parameter gradients\n",
    "        optimizer.zero_grad()\n",
    "        \n",
    "        #if torch.cuda.is_available():\n",
    "        #    z = z.to(device)\n",
    "\n",
    "        # forward + backward + optimize\n",
    "        outputs = net(z)\n",
    "        loss = criterion(outputs, labels.to(device))\n",
    "        loss.backward()\n",
    "        optimizer.step()\n",
    "\n",
    "print('Finished Training')"
   ]
  },
  {
   "cell_type": "code",
   "execution_count": 18,
   "metadata": {
    "scrolled": true
   },
   "outputs": [
    {
     "data": {
      "image/png": "[encoded data removed]",
      "text/plain": [
       "<Figure size 432x288 with 1 Axes>"
      ]
     },
     "metadata": {},
     "output_type": "display_data"
    },
    {
     "name": "stdout",
     "output_type": "stream",
     "text": [
      "GroundTruth:  Shape 0\n"
     ]
    }
   ],
   "source": [
    "dataiter = iter(val_loader)\n",
    "images, labels = dataiter.next()\n",
    "\n",
    "# print images\n",
    "imshow(torchvision.utils.make_grid(images))\n",
    "print('GroundTruth: ', ' '.join('%5s' % classes[labels[j]] for j in range(1)))"
   ]
  },
  {
   "cell_type": "code",
   "execution_count": 19,
   "metadata": {},
   "outputs": [],
   "source": [
    "#for i in range(0,8):\n",
    "#    outputs = net(test_latent_var[i])"
   ]
  },
  {
   "cell_type": "code",
   "execution_count": 21,
   "metadata": {},
   "outputs": [
    {
     "name": "stdout",
     "output_type": "stream",
     "text": [
      "Predicted:  Shape 1\n"
     ]
    }
   ],
   "source": [
    "_, predicted = torch.max(outputs, 1)\n",
    "\n",
    "print('Predicted: ', ' '.join('%5s' % classes[predicted[j]]\n",
    "                              for j in range(1)))"
   ]
  },
  {
   "cell_type": "code",
   "execution_count": 22,
   "metadata": {},
   "outputs": [
    {
     "name": "stdout",
     "output_type": "stream",
     "text": [
      "Accuracy of the network on the test images: 17 %\n"
     ]
    }
   ],
   "source": [
    "correct = 0\n",
    "total = 0\n",
    "prediction = []\n",
    "actual = []\n",
    "with torch.no_grad():\n",
    "    i = 0\n",
    "    for data in val_loader:\n",
    "        images, labels = data\n",
    "        outputs = net(test_latent_var[i])\n",
    "        _, predicted = torch.max(outputs.data, 1)\n",
    "        prediction = prediction + predicted.tolist()\n",
    "        actual = actual +labels.tolist()\n",
    "        total += labels.size(0)\n",
    "        correct += (predicted.cpu() == labels.cpu()).sum().item()\n",
    "        i+=1\n",
    "print('Accuracy of the network on the test images: %d %%' % (\n",
    "    100 * correct / total))"
   ]
  },
  {
   "cell_type": "code",
   "execution_count": 23,
   "metadata": {},
   "outputs": [
    {
     "name": "stdout",
     "output_type": "stream",
     "text": [
      "[1, 1, 1, 5, 2, 2, 2, 1, 2, 2, 1, 5, 5, 2, 2, 2, 2, 1, 2, 2, 1, 2, 2, 1, 1, 1, 5, 2, 1, 5, 5, 2, 1, 1, 1, 1, 1, 1, 2, 1, 2, 2, 2, 1, 1, 2, 2, 1, 1, 1, 1, 1, 1, 2, 1, 2, 1, 5, 5, 2, 2, 2, 2, 1, 1, 5, 1, 1, 2, 2, 1, 1, 1, 2, 1, 2, 1, 1, 2, 1, 2, 2, 1, 2, 2, 2, 1, 1, 1, 4, 1, 5, 1, 1, 2, 1, 2, 2, 2, 1, 1, 2, 1, 1, 2, 2, 2, 2, 2, 2, 2, 2, 1, 1, 2, 2, 1, 1, 1, 1, 2, 1, 1, 2, 5, 2, 1, 5, 2, 2, 2, 1, 1, 2, 2, 1, 1, 1, 1, 2, 1, 2, 5, 2, 2, 2, 2, 2, 1, 2, 2, 1, 2, 2, 2, 2, 1, 4, 2, 2, 1, 1, 2, 5, 1, 2, 1, 2, 2, 1, 5, 1, 1, 1, 2, 5, 1, 2, 2, 5, 2, 2, 1, 1, 2, 2, 5, 1, 5, 1, 1, 1, 2, 2, 5, 1, 1, 1, 2, 2, 2, 1, 1, 2, 2, 5, 1, 1, 5, 2, 4, 1, 1, 1, 2, 5, 1, 1, 2, 2, 1, 2, 5, 2, 1, 2, 1, 2, 1, 2, 5, 2, 2, 1, 2, 1, 1, 1, 2, 5, 1, 2, 2, 2, 1, 2, 2, 1, 5, 1, 5, 5, 2, 2, 5, 1, 1, 1, 2, 1, 1, 2, 1, 1, 1, 1, 1, 5, 5, 2, 1, 1, 2, 2, 1, 1, 1, 1, 1, 2, 5, 2, 2, 1, 1, 1, 1, 2, 2, 1, 2, 1, 1, 2, 2, 1, 1, 1, 2, 2, 1, 2, 1, 2, 2, 1, 1, 2, 1, 1, 1, 1, 2, 2, 1, 2, 2, 1, 2, 2, 1, 4, 2, 2, 1, 1, 2, 1, 1, 1, 1, 2, 1, 1, 5, 2, 4, 2, 5, 1, 2, 2, 2, 2, 2, 5, 1, 5, 1, 2, 1, 1, 1, 2, 1, 2, 2, 1, 1, 1, 1, 1, 2, 5, 5, 2, 2, 5, 1, 2, 2, 5, 1, 2, 2, 1, 2, 2, 1, 2, 5, 1, 5, 1, 2, 2, 2, 1, 5, 2, 2, 2, 1, 2, 2, 1, 2, 2, 2, 2, 1, 5, 2, 2, 2, 1, 1, 1, 1, 2, 2, 1, 2, 1, 1, 2, 2, 1, 1, 2, 1, 2, 1, 2, 5, 1, 1, 1, 2, 2, 2, 2, 1, 2, 2, 2, 2, 2, 2, 2, 1, 1, 1, 1, 2, 1, 2, 1, 2, 1, 1, 5, 1, 1, 2, 1, 1, 2, 1, 2, 1, 1, 1, 2, 2, 1, 1, 1, 5, 1, 2, 5, 2, 5, 2, 1, 1, 1, 1, 1, 2, 1, 5, 1, 1, 2, 2, 2, 2, 1, 2, 1, 1, 2, 2, 2, 1, 1, 2, 2, 2, 1, 1, 2, 5, 1, 1, 1, 2, 2, 1, 1, 2, 2, 1, 2, 1, 2, 2, 1, 2, 1, 1, 1, 5, 1, 2, 1, 2, 5, 2, 4, 1, 2, 2, 2, 1, 5, 2, 2, 2, 4, 2, 1, 1, 1, 5, 2, 1, 5, 2, 2, 1, 1, 5, 2, 2, 1, 1, 1, 1, 2, 1, 5, 1, 1, 1, 1, 1, 1, 2, 1, 2, 5, 1, 1, 1, 2, 2, 1, 5, 1, 2, 5, 1, 2, 1, 5, 1, 2, 1, 1, 1, 1, 2, 1, 5, 1, 1, 1]\n",
      "[3, 3, 1, 3, 0, 4, 4, 5, 4, 2, 4, 1, 3, 5, 0, 4, 1, 3, 5, 4, 2, 5, 3, 3, 5, 2, 3, 2, 4, 1, 3, 3, 3, 2, 3, 1, 0, 5, 0, 5, 0, 3, 3, 0, 2, 5, 5, 2, 5, 4, 1, 5, 1, 4, 1, 1, 0, 5, 1, 1, 1, 5, 0, 5, 3, 1, 4, 2, 5, 1, 0, 5, 1, 4, 3, 4, 0, 4, 1, 5, 3, 3, 1, 1, 3, 0, 3, 3, 4, 0, 4, 5, 1, 2, 5, 0, 0, 2, 3, 4, 3, 2, 3, 4, 2, 1, 4, 0, 2, 1, 5, 5, 4, 5, 2, 3, 2, 4, 2, 3, 5, 2, 3, 2, 4, 5, 4, 5, 2, 5, 3, 5, 4, 4, 1, 0, 0, 3, 2, 2, 1, 4, 3, 3, 1, 4, 3, 5, 3, 3, 2, 2, 5, 2, 0, 1, 5, 1, 4, 2, 1, 0, 0, 3, 0, 2, 5, 4, 0, 3, 2, 4, 5, 4, 2, 3, 5, 4, 3, 2, 5, 4, 0, 3, 3, 2, 2, 2, 4, 3, 4, 4, 1, 5, 2, 3, 4, 4, 2, 3, 1, 4, 5, 0, 1, 4, 4, 4, 4, 4, 0, 4, 5, 4, 4, 5, 4, 4, 2, 2, 3, 2, 3, 3, 4, 0, 2, 5, 3, 2, 5, 5, 1, 1, 3, 4, 5, 0, 5, 0, 4, 0, 2, 5, 0, 1, 0, 3, 3, 3, 5, 4, 1, 1, 2, 1, 3, 4, 3, 5, 5, 0, 2, 4, 0, 2, 5, 4, 1, 4, 3, 0, 3, 2, 0, 0, 2, 0, 0, 3, 0, 1, 0, 0, 5, 0, 2, 4, 0, 2, 0, 2, 2, 0, 0, 5, 5, 4, 1, 4, 3, 2, 4, 2, 3, 5, 0, 1, 0, 4, 3, 5, 3, 0, 5, 4, 3, 1, 1, 2, 5, 0, 3, 0, 4, 1, 3, 1, 1, 1, 5, 5, 0, 1, 2, 4, 4, 1, 1, 3, 3, 4, 0, 4, 0, 2, 2, 2, 1, 4, 1, 4, 0, 4, 2, 4, 2, 0, 3, 0, 0, 1, 1, 2, 5, 4, 2, 2, 2, 1, 1, 0, 2, 2, 1, 5, 0, 0, 1, 2, 3, 5, 0, 5, 2, 1, 3, 5, 3, 2, 2, 4, 3, 1, 3, 5, 1, 4, 0, 5, 0, 5, 1, 0, 4, 1, 0, 3, 2, 1, 4, 0, 4, 2, 3, 4, 2, 3, 3, 3, 4, 3, 0, 2, 4, 1, 0, 2, 1, 2, 4, 2, 1, 1, 2, 3, 4, 4, 1, 2, 1, 5, 2, 2, 1, 0, 2, 0, 0, 4, 4, 5, 1, 2, 4, 0, 1, 5, 0, 2, 0, 0, 3, 4, 3, 1, 0, 5, 5, 3, 0, 1, 1, 1, 2, 3, 5, 0, 2, 4, 3, 2, 1, 2, 1, 0, 5, 4, 3, 2, 5, 3, 3, 3, 3, 3, 4, 5, 1, 0, 2, 0, 4, 3, 3, 5, 0, 4, 4, 2, 1, 0, 4, 3, 2, 3, 5, 0, 4, 0, 0, 3, 4, 4, 2, 1, 0, 1, 4, 4, 2, 4, 2, 3, 0, 0, 1, 3, 2, 1, 5, 1, 0, 3, 3, 3, 4, 2, 4, 4, 1, 2, 0, 3, 5, 2, 3, 1, 5, 5, 5, 0, 1, 0, 0, 4, 0, 2, 5, 3, 4, 2, 1, 4, 0, 5, 4, 2, 1, 1, 4, 5, 1, 5, 2, 2, 4, 5, 0, 1, 5, 0, 2, 1, 5, 1, 5, 2, 0, 2]\n"
     ]
    },
    {
     "data": {
      "image/png": "[encoded data removed]",
      "text/plain": [
       "<Figure size 720x504 with 2 Axes>"
      ]
     },
     "metadata": {},
     "output_type": "display_data"
    }
   ],
   "source": [
    "#print(\"prediction\")\n",
    "print(prediction)\n",
    "#print(len(prediction))\n",
    "#print(\"actual\")\n",
    "print(actual)\n",
    "#print(len(actual))\n",
    "\n",
    "from sklearn.metrics import confusion_matrix\n",
    "cm = confusion_matrix(actual, prediction)\n",
    "\n",
    "import seaborn as sn\n",
    "import pandas as pd\n",
    "import matplotlib.pyplot as plt\n",
    "\n",
    "df_cm = pd.DataFrame(cm, index = [i for i in range(0,6)],\n",
    "                  columns = [i for i in range(0,6)])\n",
    "plt.figure(figsize = (10,7))\n",
    "\n",
    "sn.heatmap(df_cm, annot=True)\n",
    "plt.xlabel(\"Predicted\")\n",
    "plt.ylabel(\"Actual\")\n",
    "plt.show()"
   ]
  },
  {
   "cell_type": "code",
   "execution_count": null,
   "metadata": {},
   "outputs": [],
   "source": []
  }
 ],
 "metadata": {
  "kernelspec": {
   "display_name": "Python 3",
   "language": "python",
   "name": "python3"
  },
  "language_info": {
   "codemirror_mode": {
    "name": "ipython",
    "version": 3
   },
   "file_extension": ".py",
   "mimetype": "text/x-python",
   "name": "python",
   "nbconvert_exporter": "python",
   "pygments_lexer": "ipython3",
   "version": "3.8.5"
  }
 },
 "nbformat": 4,
 "nbformat_minor": 4
}
