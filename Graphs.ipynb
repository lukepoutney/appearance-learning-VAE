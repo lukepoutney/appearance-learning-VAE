{
 "cells": [
  {
   "cell_type": "code",
   "execution_count": null,
   "metadata": {},
   "outputs": [],
   "source": [
    "import matplotlib.pyplot as plt\n",
    "import pandas as pd\n",
    "import numpy as np\n",
    "\n",
    "plt.style.use('ggplot')\n",
    "\n",
    "name = \"4oT800V200BatchNorm32DropoutEpochs500\"\n",
    "\n",
    "# Load data\n",
    "data = pd.read_csv('outputs/'+name+'/loss'+name+'.csv')\n",
    "\n",
    "# Plot\n",
    "plt.figure(figsize=(6, 4))\n",
    "\n",
    "plt.plot(range(1,len(data['Train loss'])+1), data['Train loss'], label=\"Training Loss\")\n",
    "plt.plot(range(1,len(data['Train loss'])+1), data['Val loss'], label=\"Validation Loss\")\n",
    "plt.yticks\n",
    "\n",
    "lower, upper = 100, 1000\n",
    "axes = plt.gca()\n",
    "axes.set_ylim([lower,upper])\n",
    "plt.yticks(np.arange(lower, upper, step=100))\n",
    "plt.xlabel(\"Epochs\")\n",
    "plt.ylabel(\"Loss\")\n",
    "plt.legend()\n",
    "\n",
    "plt.savefig('outputs/'+name+'/newlossplot'+name+'.png')\n",
    "plt.show()"
   ]
  },
  {
   "cell_type": "code",
   "execution_count": null,
   "metadata": {},
   "outputs": [],
   "source": []
  }
 ],
 "metadata": {
  "kernelspec": {
   "display_name": "Python 3",
   "language": "python",
   "name": "python3"
  },
  "language_info": {
   "codemirror_mode": {
    "name": "ipython",
    "version": 3
   },
   "file_extension": ".py",
   "mimetype": "text/x-python",
   "name": "python",
   "nbconvert_exporter": "python",
   "pygments_lexer": "ipython3",
   "version": "3.8.5"
  }
 },
 "nbformat": 4,
 "nbformat_minor": 4
}
